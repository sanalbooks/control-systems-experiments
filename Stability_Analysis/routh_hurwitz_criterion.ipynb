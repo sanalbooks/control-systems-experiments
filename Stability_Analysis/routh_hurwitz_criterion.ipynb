{
 "cells": [
  {
   "cell_type": "markdown",
   "id": "77e4c6d4",
   "metadata": {},
   "source": [
    "**Author**: CodeForAll  \n",
    "**License**: MIT License\n",
    "\n",
    "--- \n"
   ]
  },
  {
   "cell_type": "markdown",
   "id": "858a8a18",
   "metadata": {},
   "source": [
    "## 🧠 Routh-Hurwitz Stability Criterion\n",
    "\n",
    "The **Routh-Hurwitz criterion** is used to determine the **stability** of a linear time-invariant (LTI) system without solving for the roots of its characteristic equation.\n",
    "\n",
    "---\n",
    "\n",
    "### ✅ Characteristic Equation\n",
    "\n",
    "Given a system with characteristic equation:\n",
    "\n",
    "$$\n",
    "a_0 s^n + a_1 s^{n-1} + a_2 s^{n-2} + \\cdots + a_n = 0\n",
    "$$\n",
    "\n",
    "The **Routh-Hurwitz criterion** tells us the number of roots in the **right half of the complex plane (RHP)** by constructing a special table (Routh Array).\n",
    "\n",
    "---\n",
    "\n",
    "### 🧾 Stability Condition\n",
    "\n",
    "- The system is **stable** if **all the roots** of the characteristic equation lie in the **left-half of the s-plane**.\n",
    "- This happens **if and only if all the elements in the first column of the Routh array have the same sign** (no sign change).\n",
    "\n",
    "---\n",
    "\n",
    "### 🧮 Routh Array Construction\n",
    "\n",
    "1. First two rows:\n",
    "   - Row 1: Coefficients of even powers: $a_0, a_2, a_4, \\dots$\n",
    "   - Row 2: Coefficients of odd powers: $a_1, a_3, a_5, \\dots$\n",
    "\n",
    "2. Subsequent rows are computed using:\n",
    "\n",
    "$$\n",
    "R_{i,j} = \\frac{\n",
    "    R_{i-1,0} \\cdot R_{i-2,j+1} - R_{i-2,0} \\cdot R_{i-1,j+1}\n",
    "}{\n",
    "    R_{i-1,0}\n",
    "}\n",
    "$$\n",
    "\n",
    "---\n",
    "\n",
    "### ⚠️ Special Cases\n",
    "\n",
    "1. **Zero in the first column**: Replace with a small $\\epsilon > 0$.\n",
    "2. **Entire row is zero**: Use the derivative of the auxiliary polynomial from the previous row.\n",
    "\n",
    "---\n",
    "\n",
    "### 📌 Example\n",
    "\n",
    "Given:\n",
    "\n",
    "$$\n",
    "s^3 + 3s^2 + 3s + 1 = 0\n",
    "$$\n",
    "\n",
    "Routh array:\n",
    "\n",
    "| s³ | 1 | 3 |\n",
    "|----|---|---|\n",
    "| s² | 3 | 1 |\n",
    "| s¹ | 2 | 0 |\n",
    "| s⁰ | 1 | 0 |\n",
    "\n",
    "All first-column elements are **positive** ⇒ **stable system**.\n",
    "\n",
    "----\n",
    "\n",
    "\n"
   ]
  },
  {
   "cell_type": "code",
   "execution_count": null,
   "id": "668ffcce",
   "metadata": {},
   "outputs": [],
   "source": [
    "from sympy import symbols, Matrix, simplify, limit, Symbol, sympify, sign\n",
    "\n",
    "def routh_hurwitz_symbolic(coeffs):\n",
    "    eps = Symbol('ε')  # small symbolic value\n",
    "    coeffs = [sympify(c) for c in coeffs]\n",
    "\n",
    "    n = len(coeffs)\n",
    "    rows = n\n",
    "    cols = (n + 1) // 2\n",
    "    routh = [[0 for _ in range(cols)] for _ in range(rows)]\n",
    "\n",
    "    # First two rows\n",
    "    routh[0] = coeffs[::2] + [0]*(cols - len(coeffs[::2]))\n",
    "    routh[1] = coeffs[1::2] + [0]*(cols - len(coeffs[1::2]))\n",
    "\n",
    "    # Fill out the Routh array\n",
    "    for i in range(2, rows):\n",
    "        for j in range(cols - 1):\n",
    "            a = routh[i - 2][0]\n",
    "            b = routh[i - 2][j + 1]\n",
    "            c = routh[i - 1][0]\n",
    "            d = routh[i - 1][j + 1]\n",
    "\n",
    "            c = c if c != 0 else eps  # avoid divide by zero\n",
    "            routh[i][j] = simplify(((c * b) - (a * d)) / c)\n",
    "\n",
    "        # Row of zeros case\n",
    "        if all(r == 0 for r in routh[i]):\n",
    "            order = n - i\n",
    "            prev_row = routh[i - 1]\n",
    "            aux_poly = [prev_row[k] * (order - 2 * k) for k in range(len(prev_row))]\n",
    "            routh[i] = aux_poly + [0]*(cols - len(aux_poly))\n",
    "\n",
    "    # Make symbolic matrix\n",
    "    routh_matrix = Matrix(routh)\n",
    "\n",
    "    # Sign change detection\n",
    "    first_col = [sympify(row[0]) for row in routh]\n",
    "    first_col_eval = [limit(val.subs(eps, 1e-6), eps, 0, dir='+') for val in first_col]\n",
    "    signs = [int(sign(x)) for x in first_col_eval if x != 0]\n",
    "\n",
    "    sign_changes = sum(signs[i] != signs[i + 1] for i in range(len(signs) - 1))\n",
    "\n",
    "    return routh_matrix, sign_changes\n"
   ]
  },
  {
   "cell_type": "code",
   "execution_count": 9,
   "id": "82cea51b",
   "metadata": {},
   "outputs": [
    {
     "name": "stdout",
     "output_type": "stream",
     "text": [
      "Routh Array:\n",
      "Matrix([[1, 2], [-3, 0], [2, 0]])\n",
      "Number of right-half-plane poles: 2\n"
     ]
    }
   ],
   "source": [
    "from sympy import init_printing\n",
    "\n",
    "init_printing()\n",
    "coeffs = [1, -3, 2]\n",
    "\n",
    "routh_array, unstable_poles = routh_hurwitz_symbolic(coeffs)\n",
    "print(\"Routh Array:\")\n",
    "print(routh_array)\n",
    "print(f\"Number of right-half-plane poles: {unstable_poles}\")\n"
   ]
  },
  {
   "cell_type": "code",
   "execution_count": 10,
   "id": "fc0da53c",
   "metadata": {},
   "outputs": [
    {
     "name": "stdout",
     "output_type": "stream",
     "text": [
      "Routh Array:\n",
      "Matrix([[1, 3, 5], [2, 4, 0], [1, 5, 0], [-6, 0, 0], [5, 0, 0]])\n",
      "Number of right-half-plane poles: 2\n"
     ]
    }
   ],
   "source": [
    "from sympy import init_printing\n",
    "\n",
    "init_printing()\n",
    "coeffs = [1, 2, 3, 4, 5]\n",
    "\n",
    "routh_array, unstable_poles = routh_hurwitz_symbolic(coeffs)\n",
    "print(\"Routh Array:\")\n",
    "print(routh_array)\n",
    "print(f\"Number of right-half-plane poles: {unstable_poles}\")"
   ]
  },
  {
   "cell_type": "code",
   "execution_count": 11,
   "id": "62a87da6",
   "metadata": {},
   "outputs": [
    {
     "name": "stdout",
     "output_type": "stream",
     "text": [
      "Routh Array:\n",
      "Matrix([[1, 15, 15, 1], [6, 20, 6, 0], [35/3, 14, 1, 0], [64/5, 192/35, 0, 0], [9, 1, 0, 0], [256/63, 0, 0, 0], [1, 0, 0, 0]])\n",
      "Number of right-half-plane poles: 0\n"
     ]
    }
   ],
   "source": [
    "from sympy import init_printing\n",
    "\n",
    "init_printing()\n",
    "coeffs = [1, 6, 15, 20, 15, 6, 1]\n",
    "\n",
    "routh_array, unstable_poles = routh_hurwitz_symbolic(coeffs)\n",
    "print(\"Routh Array:\")\n",
    "print(routh_array)\n",
    "print(f\"Number of right-half-plane poles: {unstable_poles}\")"
   ]
  }
 ],
 "metadata": {
  "kernelspec": {
   "display_name": "Python 3",
   "language": "python",
   "name": "python3"
  },
  "language_info": {
   "codemirror_mode": {
    "name": "ipython",
    "version": 3
   },
   "file_extension": ".py",
   "mimetype": "text/x-python",
   "name": "python",
   "nbconvert_exporter": "python",
   "pygments_lexer": "ipython3",
   "version": "3.11.5"
  }
 },
 "nbformat": 4,
 "nbformat_minor": 5
}
